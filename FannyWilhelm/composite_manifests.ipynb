{
 "cells": [
  {
   "cell_type": "markdown",
   "metadata": {},
   "source": [
    "## A Notebook to get Information from existing IIIF-Manifests, select canvases, and arrange them into a new manifest\n",
    "\n",
    "\n",
    "NOTE: This will only work with existing manifests following the version 3 of the IIIF Presentation API.\n",
    "For v2 resources first create v3 manifest using https://github.com/IIIF/prezi-2-to-3"
   ]
  },
  {
   "cell_type": "code",
   "execution_count": 14,
   "metadata": {},
   "outputs": [],
   "source": [
    "import requests\n",
    "import json"
   ]
  },
  {
   "cell_type": "code",
   "execution_count": 2,
   "metadata": {},
   "outputs": [],
   "source": [
    "# function to create a new manifest\n",
    "def create_manifest(*args):\n",
    "   \n",
    "    new_manifest = {\n",
    "        \"@context\": \"http://iiif.io/api/presentation/3/context.json\",\n",
    "        \"id\": manifest_id,\n",
    "        \"type\": \"Manifest\",\n",
    "        \"label\": label,\n",
    "        \"metadata\": metadata,\n",
    "        \"provider\": provider,\n",
    "        \"seeAlso\": seeAlso,\n",
    "        \"items\": []  # No canvases yet\n",
    "    }  \n",
    "\n",
    "    return new_manifest"
   ]
  },
  {
   "cell_type": "code",
   "execution_count": 3,
   "metadata": {},
   "outputs": [],
   "source": [
    "# Provide basic Metadata for the new manifest\n",
    "base_url=\"https://raw.githubusercontent.com/r0man-ist/iiif/refs/heads/main/FannyWilhelm/\"\n",
    "filename =\"briefsequenz.json\"\n",
    "manifest_id=base_url+filename ## required\n",
    "label={\"de\": [\"Hensel, Wilhelm/Fanny Hensel: Briefsequenz aus der Verlobungszeit 1829\"]} ## required\n",
    "metadata=[\n",
    "    {\n",
    "         \"label\": {\"de\": [\"Autor\"]},\n",
    "         \"value\": {\"de\": [\"Hensel, Fanny\", \"Hensel, Wilhelm\"]}\n",
    "    },\n",
    "    {\n",
    "         \"label\":  {\"de\": [\"Titel\"]},\n",
    "         \"value\":  {\"de\": [\"Briefsequenz aus der Verlobungszeit von Fanny und Wilhelm Hensel, 1829\"]}\n",
    "    },\n",
    "    {\n",
    "      \"label\":  {\"de\": [\"Signaturen\"]},\n",
    "      \"value\":  {\"de\": [\"MA Depos. 3,5\", \"MA Depos. 3,6\"]}\n",
    "    },  \n",
    "    {\n",
    "      \"label\":  {\"de\": [\"Sprache\"]},\n",
    "      \"value\":  {\"de\": [\"ger\"]}\n",
    "    },\n",
    "     {\n",
    "      \"label\":  {\"de\": [\"Lizenz\"]},\n",
    "      \"value\":  {\"de\": [\"Public Domain Mark 1.0\"]}\n",
    "    },\n",
    "      {\n",
    "      \"label\":  {\"de\": [\"Anmerkung\"]},\n",
    "      \"value\":  {\"de\": [\"Bei diesem virtuellen Objekt handelt es sich um eine Briefsequenz aus dem Briefwechsel zwischen Fanny Mendelssohn-Bartholdy und Wilhelm Hensel. Der gesamte erhaltene Briefwechsel ist in den digitalisierten Sammlungen der Staatsbibliothek zu Berlin in drei Objekten enthalten (siehe unter seeAlso). Dieses Objekt fasst Briefe zusammen, die offensichtlich direkt aufeinander folgen. Die Transkriptionen und die Zuordnung zu Briefsequenzen sind im Seminarprojekt 'Fanny Loves Wilhelm' in Zusammenarbeit von Staatsbibliothek zu Berlin und UdK entstanden.\"]}\n",
    "    }]\n",
    "\n",
    "seeAlso = [\n",
    "    {\n",
    "      \"id\": \"https://resolver.staatsbibliothek-berlin.de/SBB00035B5E00000000\",\n",
    "      \"type\": \"Digital object\",\n",
    "      \"label\": {\n",
    "        \"de\": [\n",
    "          \"Digitalisierte Sammmlungen\"\n",
    "        ]\n",
    "      }\n",
    "    },\n",
    "    {\n",
    "      \"id\": \"https://resolver.staatsbibliothek-berlin.de/SBB00035B6800000000\",\n",
    "      \"type\": \"Digital object\",\n",
    "      \"label\": {\n",
    "        \"de\": [\n",
    "          \"Digitalisierte Sammmlungen\"\n",
    "        ]\n",
    "      }\n",
    "    },\n",
    "    {\n",
    "      \"id\": \"https://resolver.staatsbibliothek-berlin.de/SBB00035DA100000000\",\n",
    "      \"type\": \"Digital object\",\n",
    "      \"label\": {\n",
    "        \"de\": [\n",
    "          \"Digitalisierte Sammmlungen\"\n",
    "        ]\n",
    "      }\n",
    "    }    \n",
    "  ]\n",
    "\n",
    "provider = [\n",
    "    {\n",
    "      \"id\": \"https://lab.sbb.berlin\",\n",
    "      \"type\": \"Agent\",\n",
    "      \"label\": { \"en\": [ \"Stabi Lab\" ] },\n",
    "      \"homepage\": [\n",
    "        {\n",
    "          \"id\": \"https://lab.sbb.berlin\",\n",
    "          \"type\": \"Text\",\n",
    "          \"label\": { \"de\": [ \"Stabi Lab Homepage\" ] },\n",
    "          \"format\": \"text/html\"\n",
    "        }]\n",
    "    }      \n",
    "  ]\n",
    "    \n",
    "new_manifest = create_manifest(manifest_id, label, metadata, provider)"
   ]
  },
  {
   "cell_type": "code",
   "execution_count": 4,
   "metadata": {},
   "outputs": [],
   "source": [
    "# function to get manifests from a list of urls\n",
    "def fetch_manifests(manifest_urls):\n",
    "    manifests = []\n",
    "    for url in manifest_urls:\n",
    "        response = requests.get(url)\n",
    "        response.raise_for_status()  # Raises an HTTPError for bad responses\n",
    "        manifest = response.json()  # Parse the JSON response\n",
    "                             \n",
    "        manifests.append(manifest)\n",
    "            \n",
    "    return manifests"
   ]
  },
  {
   "cell_type": "code",
   "execution_count": 5,
   "metadata": {},
   "outputs": [],
   "source": [
    "# specify a list of manifests to fetch\n",
    "manifest_urls = [\"https://raw.githubusercontent.com/r0man-ist/iiif/refs/heads/main/FannyWilhelm/manifests/1880377578v3.manifest.json\",\n",
    "                 \"https://raw.githubusercontent.com/r0man-ist/iiif/refs/heads/main/FannyWilhelm/manifests/1878144588v3.manifest.json\",\n",
    "                 \"https://raw.githubusercontent.com/r0man-ist/iiif/refs/heads/main/FannyWilhelm/manifests/1878121294v3.manifest.json\"]\n",
    "manifests = fetch_manifests(manifest_urls)\n",
    "#print(manifests)\n",
    "\n"
   ]
  },
  {
   "cell_type": "code",
   "execution_count": 6,
   "metadata": {},
   "outputs": [],
   "source": [
    "# get individual canvases from the manifests\n",
    "canvases = []\n",
    "for manifest in manifests:  \n",
    "    for canvas in manifest.get('items', []):\n",
    "        if canvas.get('type') == 'Canvas':\n",
    "            canvases.append(canvas)\n",
    "\n",
    "# Print the extracted canvases\n",
    "#print(canvases)"
   ]
  },
  {
   "cell_type": "code",
   "execution_count": 7,
   "metadata": {},
   "outputs": [],
   "source": [
    "# specify a list of canvases to include in the new manifest\n",
    "# canvases will be included in the order in which they appear in the list\n",
    "canvas_list = [\n",
    "    \"https://content.staatsbibliothek-berlin.de/dc/1880377578-0235/canvas\",\n",
    "   \"https://content.staatsbibliothek-berlin.de/dc/1880377578-0236/canvas\",\n",
    "   \"https://content.staatsbibliothek-berlin.de/dc/1878144588-0159/canvas\",\n",
    "   \"https://content.staatsbibliothek-berlin.de/dc/1878144588-0160/canvas\",\n",
    "   \"https://content.staatsbibliothek-berlin.de/dc/1880377578-0237/canvas\",\n",
    "   \"https://content.staatsbibliothek-berlin.de/dc/1880377578-0238/canvas\"\n",
    "]\n"
   ]
  },
  {
   "cell_type": "code",
   "execution_count": 8,
   "metadata": {},
   "outputs": [],
   "source": [
    "matching_canvases = []\n",
    "\n",
    "# Create a dictionary for quick lookup using the canvas IDs\n",
    "canvas_ids = {canvas[\"id\"]: canvas for canvas in canvases}\n",
    "\n",
    "# Iterate over the canvas_list to maintain the specified order\n",
    "for canvas_id in canvas_list:\n",
    "    if canvas_id in canvas_ids:\n",
    "        matching_canvases.append(canvas_ids[canvas_id])\n",
    "\n",
    "new_manifest[\"items\"] = matching_canvases"
   ]
  },
  {
   "cell_type": "code",
   "execution_count": 9,
   "metadata": {},
   "outputs": [
    {
     "name": "stdout",
     "output_type": "stream",
     "text": [
      "Height: 1540, Width: 1267\n",
      "Height: 1540, Width: 1267\n",
      "Height: 1764, Width: 1596\n",
      "Height: 1764, Width: 1597\n",
      "Height: 1256, Width: 823\n",
      "Height: 1256, Width: 823\n"
     ]
    }
   ],
   "source": [
    "# OPTIONAL Get correct image sizes for all canvases\n",
    "\n",
    "# function to get image sizes for a list of canvases\n",
    "\n",
    "def get_image_sizes(canvases):\n",
    "    image_sizes = []\n",
    "    for canvas in canvases:\n",
    "        # get the image service URL\n",
    "        image_service = canvas[\"items\"][0][\"items\"][0][\"body\"][\"service\"][0][\"@id\"]\n",
    "        response = requests.get(image_service)\n",
    "        response.raise_for_status()  # Raises an HTTPError for bad responses    \n",
    "        image_info = response.json()\n",
    "        # get height and width of the image\n",
    "        height = image_info[\"height\"]\n",
    "        width = image_info[\"width\"]\n",
    "        image_sizes.append((height, width))\n",
    "        # print the image sizes\n",
    "        print(f\"Height: {height}, Width: {width}\")\n",
    "    return image_sizes\n",
    "    \n",
    "# call the function to get image sizes\n",
    "image_sizes = get_image_sizes(matching_canvases)\n",
    "\n",
    "# put image sizes from list into the manifest\n",
    "for canvas, (height, width) in zip(matching_canvases, image_sizes):\n",
    "    canvas[\"height\"] = height\n",
    "    canvas[\"width\"] = width\n",
    "\n",
    "new_manifest[\"items\"] = matching_canvases"
   ]
  },
  {
   "cell_type": "code",
   "execution_count": 10,
   "metadata": {},
   "outputs": [],
   "source": [
    "# provide new URLs for the canvases\n",
    "\n",
    "canvas_nr = 1\n",
    "for canvas in matching_canvases:\n",
    "    canvas[\"id\"] = base_url + filename.split(\".\")[0] + \"/\" + str(canvas_nr) + \"/\" + \"canvas\"\n",
    "    canvas_nr += 1\n",
    "\n",
    "\n",
    "\n",
    "# provide new URLs for the annotation pages\n",
    "\n",
    "for canvas in matching_canvases:\n",
    "    for annotation in canvas[\"items\"]:\n",
    "        annotation[\"id\"] = canvas[\"id\"] + \"/annotation-page\"\n",
    "\n",
    "# update the target URL for the annotation pages\n",
    "\n",
    "for canvas in matching_canvases:\n",
    "    for annotation in canvas[\"items\"]:\n",
    "        annotation[\"items\"][0][\"target\"] = canvas[\"id\"]\n",
    "\n",
    "new_manifest[\"items\"] = matching_canvases"
   ]
  },
  {
   "cell_type": "code",
   "execution_count": 11,
   "metadata": {},
   "outputs": [],
   "source": [
    "# renumber canvas labels\n",
    "canvas_nr = 1\n",
    "for canvas in matching_canvases:\n",
    "    canvas[\"label\"][\"de\"][0] = str(canvas_nr)\n",
    "    canvas_nr += 1\n",
    "\n",
    "new_manifest[\"items\"] = matching_canvases"
   ]
  },
  {
   "cell_type": "markdown",
   "metadata": {},
   "source": [
    "# todo\n",
    "perform xslt transformation directly in notebook and give xslt params to the function to provide URLs for convases and annotation pages"
   ]
  },
  {
   "cell_type": "code",
   "execution_count": 12,
   "metadata": {},
   "outputs": [],
   "source": [
    "# add annotation to include full text transcription\n",
    "# annotations for individual pages can be produces from alto files via https://glenrobson.github.io/iiif_stuff/alto2annotations/alto2annosv3.xsl\n",
    "# look for file in the subfolder \"fulltext\" with \".json\" ending\n",
    "import os\n",
    "fulltext_folder = \"fulltext\"\n",
    "\n",
    "for filename in os.listdir(fulltext_folder):\n",
    "    if filename.endswith(\".json\"):\n",
    "        with open(os.path.join(fulltext_folder, filename), encoding=\"utf-8\") as f:\n",
    "            annotation_list = json.load(f)\n",
    "            annotation_url = annotation_list[\"id\"]\n",
    "            # find the corresponding canvas\n",
    "            for canvas in matching_canvases:\n",
    "                if canvas[\"label\"][\"de\"][0] == filename.split(\"_\")[0]:\n",
    "                    canvas[\"annotations\"] = [{\"id\": annotation_url, \"type\": \"AnnotationPage\"}]\n",
    "new_manifest[\"items\"] = matching_canvases"
   ]
  },
  {
   "cell_type": "code",
   "execution_count": 13,
   "metadata": {},
   "outputs": [],
   "source": [
    "\n",
    "with open(\"briefsequenz.json\", \"w\", encoding=\"utf-8\") as f:\n",
    "        json.dump(new_manifest, f, ensure_ascii=False, indent=4)"
   ]
  }
 ],
 "metadata": {
  "kernelspec": {
   "display_name": "Python 3",
   "language": "python",
   "name": "python3"
  },
  "language_info": {
   "codemirror_mode": {
    "name": "ipython",
    "version": 3
   },
   "file_extension": ".py",
   "mimetype": "text/x-python",
   "name": "python",
   "nbconvert_exporter": "python",
   "pygments_lexer": "ipython3",
   "version": "3.12.0"
  }
 },
 "nbformat": 4,
 "nbformat_minor": 2
}
