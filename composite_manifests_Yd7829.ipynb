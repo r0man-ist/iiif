{
 "cells": [
  {
   "cell_type": "markdown",
   "metadata": {},
   "source": [
    "## A Notebook to get Information from existing IIIF-Manifests, select canvases, and arrange them into a new manifest\n",
    "\n",
    "\n",
    "NOTE: For now, this will only work with existing manifests following the v2 of the IIIF Presentation API, but will produce a manifest following v3."
   ]
  },
  {
   "cell_type": "code",
   "execution_count": 1,
   "metadata": {},
   "outputs": [],
   "source": [
    "import requests\n",
    "import json"
   ]
  },
  {
   "cell_type": "code",
   "execution_count": 14,
   "metadata": {},
   "outputs": [],
   "source": [
    "# function to create a new manifest\n",
    "def create_manifest(manifest_id, label, metadata, requiredStatement, provider):\n",
    "   \n",
    "    new_manifest = {\n",
    "        \"@context\": \"http://iiif.io/api/presentation/3/context.json\",\n",
    "        \"id\": manifest_id,\n",
    "        \"type\": \"Manifest\",\n",
    "        \"label\": label,\n",
    "        \"summary\": requiredStatement,\n",
    "        \"metadata\": metadata,\n",
    "        \"provider\": provider,\n",
    "        \"items\": []  # No canvases yet\n",
    "    }  \n",
    "\n",
    "    return new_manifest"
   ]
  },
  {
   "cell_type": "code",
   "execution_count": 15,
   "metadata": {},
   "outputs": [],
   "source": [
    "# Provide basic Metadata for the new manifest\n",
    "base_url=\"https://raw.githubusercontent.com/r0man-ist/iiif/refs/heads/main/\"\n",
    "filename =\"test2.json\"\n",
    "manifest_id=base_url+filename ## required\n",
    "\n",
    "label={\"de\": [\"Rekonstruktion Yd7829\"]} ## required\n",
    "metadata=[\n",
    "    {\n",
    "         \"label\": \"Autor\",\n",
    "         \"value\": [\"Hensel, Fanny\", \"Hensel, Wilhelm\"]\n",
    "    },\n",
    "    {\n",
    "         \"label\": \"Titel\",\n",
    "         \"value\": \"Sammelband Yd7829\"\n",
    "    },\n",
    "    {\n",
    "      \"label\": \"Signatur\",\n",
    "      \"value\": [\"Yd7829\"]\n",
    "    },  \n",
    "    {\n",
    "      \"label\": \"Sprache\",\n",
    "      \"value\": \"ger\"\n",
    "    },\n",
    "     {\n",
    "      \"label\": \"Lizenz\",\n",
    "      \"value\": \"Public Domain Mark 1.0\"\n",
    "    },\n",
    "        ]\n",
    "requiredStatement = {\n",
    "      \"label\": \"Zu diesem Objekt\",\n",
    "      \"value\": \"Bei diesem virtuellen Objekt handelt es sich um eine Rekonstruktion.\"\n",
    "    },\n",
    "provider = [\n",
    "    {\n",
    "      \"id\": \"https://lab.sbb.berlin\",\n",
    "      \"type\": \"Agent\",\n",
    "      \"label\": { \"en\": [ \"Stabi Lab\" ] },\n",
    "      \"homepage\": [\n",
    "        {\n",
    "          \"id\": \"https://lab.sbb.berlin\",\n",
    "          \"type\": \"Text\",\n",
    "          \"label\": { \"de\": [ \"Stabi Lab Homepage\" ] },\n",
    "          \"format\": \"text/html\"\n",
    "        }]\n",
    "    }      \n",
    "  ]\n",
    "    \n",
    "new_manifest = create_manifest(manifest_id, label, metadata, requiredStatement, provider)"
   ]
  },
  {
   "cell_type": "code",
   "execution_count": 16,
   "metadata": {},
   "outputs": [],
   "source": [
    "# function to get manifests from a list of urls\n",
    "def fetch_manifests(manifest_urls):\n",
    "    manifests = []\n",
    "    for url in manifest_urls:\n",
    "        response = requests.get(url)\n",
    "        response.raise_for_status()  # Raises an HTTPError for bad responses\n",
    "        manifest = response.json()  # Parse the JSON response\n",
    "                             \n",
    "        manifests.append(manifest)\n",
    "            \n",
    "    return manifests"
   ]
  },
  {
   "cell_type": "code",
   "execution_count": 17,
   "metadata": {},
   "outputs": [],
   "source": [
    "# specify a list of manifests to fetch\n",
    "manifest_urls = [\"https://collections.library.yale.edu/manifests/17384131\",\n",
    "                 \"https://collections.library.yale.edu/manifests/17384177\",\n",
    "                 \"https://raw.githubusercontent.com/r0man-ist/iiif/refs/heads/main/manifests/bsb00062258v3.manifest.json\",\n",
    "                 \"https://collections.library.yale.edu/manifests/17384255\",\n",
    "                 \"https://raw.githubusercontent.com/r0man-ist/iiif/refs/heads/main/manifests/835033880v3.manifest.json\"]\n",
    "manifests = fetch_manifests(manifest_urls)\n",
    "#print(manifests)\n",
    "\n"
   ]
  },
  {
   "cell_type": "code",
   "execution_count": 22,
   "metadata": {},
   "outputs": [],
   "source": [
    "# get individual canvases from the manifests\n",
    "canvases = []\n",
    "for manifest in manifests:  \n",
    "    for canvas in manifest.get('items', []):\n",
    "        if canvas.get('type') == 'Canvas':\n",
    "            canvases.append(canvas)\n",
    "\n",
    "new_manifest['items'] = canvases"
   ]
  },
  {
   "cell_type": "code",
   "execution_count": 8,
   "metadata": {},
   "outputs": [],
   "source": [
    "# OPTIONAL\n",
    "# specify a list of canvases to REMOVE in the new manifest\n",
    "to_exclude_canvas_list = [\n",
    "    \"https://content.staatsbibliothek-berlin.de/dc/1880377578-0235/canvas\",\n",
    "   \"https://content.staatsbibliothek-berlin.de/dc/1880377578-0236/canvas\",\n",
    "   \"https://content.staatsbibliothek-berlin.de/dc/1878144588-0159/canvas\",\n",
    "   \"https://content.staatsbibliothek-berlin.de/dc/1880377578-0237/canvas\",\n",
    "   \"https://content.staatsbibliothek-berlin.de/dc/1880377578-0238/canvas\"\n",
    "]\n"
   ]
  },
  {
   "cell_type": "code",
   "execution_count": 10,
   "metadata": {},
   "outputs": [
    {
     "ename": "NameError",
     "evalue": "name 'canvas_list' is not defined",
     "output_type": "error",
     "traceback": [
      "\u001b[1;31m---------------------------------------------------------------------------\u001b[0m",
      "\u001b[1;31mNameError\u001b[0m                                 Traceback (most recent call last)",
      "Cell \u001b[1;32mIn[10], line 7\u001b[0m\n\u001b[0;32m      4\u001b[0m canvas_ids \u001b[38;5;241m=\u001b[39m {canvas[\u001b[38;5;124m\"\u001b[39m\u001b[38;5;124m@id\u001b[39m\u001b[38;5;124m\"\u001b[39m]: canvas \u001b[38;5;28;01mfor\u001b[39;00m canvas \u001b[38;5;129;01min\u001b[39;00m canvases}\n\u001b[0;32m      6\u001b[0m \u001b[38;5;66;03m# Iterate over the canvas_list to maintain the specified order\u001b[39;00m\n\u001b[1;32m----> 7\u001b[0m \u001b[38;5;28;01mfor\u001b[39;00m canvas_id \u001b[38;5;129;01min\u001b[39;00m \u001b[43mcanvas_list\u001b[49m:\n\u001b[0;32m      8\u001b[0m     \u001b[38;5;28;01mif\u001b[39;00m canvas_id \u001b[38;5;129;01min\u001b[39;00m to_exclude_canvas_list:\n\u001b[0;32m      9\u001b[0m         \u001b[38;5;28;01mdel\u001b[39;00m canvas_ids[canvas_id]\n",
      "\u001b[1;31mNameError\u001b[0m: name 'canvas_list' is not defined"
     ]
    }
   ],
   "source": [
    "matching_canvases = []\n",
    "\n",
    "# Create a dictionary for quick lookup using the canvas IDs\n",
    "canvas_ids = {canvas[\"@id\"]: canvas for canvas in canvases}\n",
    "\n",
    "# Iterate over the canvas_list to maintain the specified order\n",
    "for canvas_id in canvas_list:\n",
    "    if canvas_id in to_exclude_canvas_list:\n",
    "        del canvas_ids[canvas_id]\n",
    "\n",
    "new_manifest[\"items\"] = matching_canvases"
   ]
  },
  {
   "cell_type": "code",
   "execution_count": 23,
   "metadata": {},
   "outputs": [],
   "source": [
    "new_manifest[\"items\"] = canvases"
   ]
  },
  {
   "cell_type": "code",
   "execution_count": 24,
   "metadata": {},
   "outputs": [],
   "source": [
    "\n",
    "with open(\"test2.json\", \"w\", encoding=\"utf-8\") as f:\n",
    "        json.dump(new_manifest, f, ensure_ascii=False, indent=4)"
   ]
  }
 ],
 "metadata": {
  "kernelspec": {
   "display_name": "Python 3",
   "language": "python",
   "name": "python3"
  },
  "language_info": {
   "codemirror_mode": {
    "name": "ipython",
    "version": 3
   },
   "file_extension": ".py",
   "mimetype": "text/x-python",
   "name": "python",
   "nbconvert_exporter": "python",
   "pygments_lexer": "ipython3",
   "version": "3.12.0"
  }
 },
 "nbformat": 4,
 "nbformat_minor": 2
}
